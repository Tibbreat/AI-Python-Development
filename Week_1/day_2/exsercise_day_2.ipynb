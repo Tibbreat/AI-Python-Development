{
 "cells": [
  {
   "cell_type": "code",
   "execution_count": null,
   "id": "f4ab6248",
   "metadata": {},
   "outputs": [],
   "source": [
    "#  Exercise 1: Write a program that asks the user to input an integer number. Determine if the number is even or odd and print the result.\n",
    "num_input_ex1 =  int(input(\"Enter the number need to check: \"))\n",
    "\n",
    "if(num_input_ex1 == 0): \n",
    "    print(\"Input equals 0\")\n",
    "elif(num_input_ex1 % 2 == 0):\n",
    "    print(\"This is even number\")\n",
    "else: print (\"This is odd number\")"
   ]
  }
 ],
 "metadata": {
  "kernelspec": {
   "display_name": "Python 3",
   "language": "python",
   "name": "python3"
  },
  "language_info": {
   "name": "python",
   "version": "3.13.4"
  }
 },
 "nbformat": 4,
 "nbformat_minor": 5
}
