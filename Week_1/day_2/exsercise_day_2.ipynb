{
 "cells": [
  {
   "cell_type": "code",
   "execution_count": null,
   "id": "f4ab6248",
   "metadata": {},
   "outputs": [],
   "source": [
    "#  Exercise 1: Write a program that asks the user to input an integer number. Determine if the number is even or odd and print the result.\n",
    "num_input_ex1 =  int(input(\"Enter the number need to check: \"))\n",
    "\n",
    "if(num_input_ex1 == 0): \n",
    "    print(\"Input equals 0\")\n",
    "elif(num_input_ex1 % 2 == 0):\n",
    "    print(\"This is even number\")\n",
    "else: print (\"This is odd number\")"
   ]
  },
  {
   "cell_type": "code",
   "execution_count": null,
   "id": "b5658152",
   "metadata": {},
   "outputs": [],
   "source": [
    "#Exercise 2: Ask the user to input a number. Print the multiplication table for that number from 1 to 10."
   ]
  },
  {
   "cell_type": "code",
   "execution_count": null,
   "id": "2b989c82",
   "metadata": {},
   "outputs": [],
   "source": [
    "#  Exercise 3: Prompt the user to enter a positive integer n. Calculate and display the sum of all numbers from 1 to n.\n"
   ]
  },
  {
   "cell_type": "code",
   "execution_count": null,
   "id": "36594f97",
   "metadata": {},
   "outputs": [],
   "source": [
    "#  Exercise 4: Ask the user to input three integer numbers. Print the largest of the three.\n"
   ]
  },
  {
   "cell_type": "code",
   "execution_count": null,
   "id": "7f60f701",
   "metadata": {},
   "outputs": [],
   "source": [
    "#  Exercise 5: Create a loop that repeatedly asks the user to enter a password until they enter the correct one (\"admin123\").\n"
   ]
  },
  {
   "cell_type": "code",
   "execution_count": null,
   "id": "36cd1867",
   "metadata": {},
   "outputs": [],
   "source": [
    "#  Exercise 6: Write a program that counts how many numbers between 1 and 100 are divisible by 3.\n"
   ]
  },
  {
   "cell_type": "code",
   "execution_count": null,
   "id": "1d028a78",
   "metadata": {},
   "outputs": [],
   "source": [
    "#  Exercise 7: Ask the user to input an integer. Check whether the number is a prime number and display the result.\n"
   ]
  },
  {
   "cell_type": "code",
   "execution_count": null,
   "id": "6975e48a",
   "metadata": {},
   "outputs": [],
   "source": [
    "#  Exercise 8: Continuously prompt the user to enter numbers. Stop when the sum of all entered numbers exceeds 100, and display the total.\n"
   ]
  },
  {
   "cell_type": "code",
   "execution_count": null,
   "id": "8cab3d9f",
   "metadata": {},
   "outputs": [],
   "source": [
    "#  Exercise 9: Ask the user to enter a year. Determine if it is a leap year based on these rules (Divisible by 4 and not divisible by 100, or divisible by 400)\n"
   ]
  },
  {
   "cell_type": "code",
   "execution_count": null,
   "id": "5085a586",
   "metadata": {},
   "outputs": [],
   "source": [
    "#  Exercise 10: Ask the user to enter a number n. Print a triangle pattern of numbers from 1 to n like this (when n = 5):\n"
   ]
  },
  {
   "cell_type": "code",
   "execution_count": null,
   "id": "1eaea043",
   "metadata": {},
   "outputs": [],
   "source": [
    "#  Exercise 11: Write a program that asks the user to input an integer number. Determine if the number is even or odd and print the result."
   ]
  }
 ],
 "metadata": {
  "kernelspec": {
   "display_name": "Python 3",
   "language": "python",
   "name": "python3"
  },
  "language_info": {
   "codemirror_mode": {
    "name": "ipython",
    "version": 3
   },
   "file_extension": ".py",
   "mimetype": "text/x-python",
   "name": "python",
   "nbconvert_exporter": "python",
   "pygments_lexer": "ipython3",
   "version": "3.13.4"
  }
 },
 "nbformat": 4,
 "nbformat_minor": 5
}
